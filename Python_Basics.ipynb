{
 "cells": [
  {
   "cell_type": "code",
   "execution_count": 1,
   "id": "c54563d2-74e0-4270-ba3b-3b9e162f6b03",
   "metadata": {},
   "outputs": [],
   "source": [
    "# 1 write a python program to print \"Hello, World!\" ?"
   ]
  },
  {
   "cell_type": "code",
   "execution_count": 9,
   "id": "433e557d-6e78-4445-afaa-904b532598f3",
   "metadata": {},
   "outputs": [
    {
     "name": "stdout",
     "output_type": "stream",
     "text": [
      "Hello, World!\n"
     ]
    }
   ],
   "source": [
    "print(\"Hello, World!\")"
   ]
  },
  {
   "cell_type": "code",
   "execution_count": null,
   "id": "c2c672ee-c49a-451d-8ac3-480e4c68da4d",
   "metadata": {},
   "outputs": [],
   "source": [
    "# 2 write a python program that displys your nanme and age?"
   ]
  },
  {
   "cell_type": "code",
   "execution_count": 13,
   "id": "89011475-2ac0-4205-a3be-89f504c5ca31",
   "metadata": {},
   "outputs": [
    {
     "name": "stdout",
     "output_type": "stream",
     "text": [
      "My name is Roshan and i am 30 Years old\n"
     ]
    }
   ],
   "source": [
    "print(\"My name is Roshan and i am 30 Years old\")"
   ]
  },
  {
   "cell_type": "code",
   "execution_count": null,
   "id": "394d21af-cc0d-41ee-b37d-3e78a1e920d1",
   "metadata": {},
   "outputs": [],
   "source": [
    "# 3 write a code to print all type of krywords using keyword library ?"
   ]
  },
  {
   "cell_type": "code",
   "execution_count": 21,
   "id": "d81e8358-78b3-4e30-b30a-dfac6a7dbf6e",
   "metadata": {},
   "outputs": [
    {
     "name": "stdout",
     "output_type": "stream",
     "text": [
      "\n",
      "Here is a list of the Python keywords.  Enter any keyword to get more help.\n",
      "\n",
      "False               class               from                or\n",
      "None                continue            global              pass\n",
      "True                def                 if                  raise\n",
      "and                 del                 import              return\n",
      "as                  elif                in                  try\n",
      "assert              else                is                  while\n",
      "async               except              lambda              with\n",
      "await               finally             nonlocal            yield\n",
      "break               for                 not                 \n",
      "\n"
     ]
    }
   ],
   "source": [
    "help(\"keywords\")"
   ]
  },
  {
   "cell_type": "code",
   "execution_count": 31,
   "id": "2113ec31-bd66-4fba-b0c4-6348338057ca",
   "metadata": {},
   "outputs": [
    {
     "name": "stdout",
     "output_type": "stream",
     "text": [
      "The list of keywords is : \n",
      "['False', 'None', 'True', 'and', 'as', 'assert', 'async', 'await', 'break', 'class', 'continue', 'def', 'del', 'elif', 'else', 'except', 'finally', 'for', 'from', 'global', 'if', 'import', 'in', 'is', 'lambda', 'nonlocal', 'not', 'or', 'pass', 'raise', 'return', 'try', 'while', 'with', 'yield']\n"
     ]
    }
   ],
   "source": [
    "import keyword\n",
    "print(\"The list of keywords is : \")\n",
    "print(keyword.kwlist)"
   ]
  },
  {
   "cell_type": "code",
   "execution_count": null,
   "id": "d337f5d6-d3ab-46cb-a65e-3bd00084372e",
   "metadata": {},
   "outputs": [],
   "source": [
    "# 4 Write a program that checks if a given word is a python keyword?"
   ]
  },
  {
   "cell_type": "code",
   "execution_count": 49,
   "id": "e87222e9-fa91-4619-9f87-a3ec35a8dfdd",
   "metadata": {},
   "outputs": [
    {
     "data": {
      "text/plain": [
       "False"
      ]
     },
     "execution_count": 49,
     "metadata": {},
     "output_type": "execute_result"
    }
   ],
   "source": [
    "import keyword\n",
    "a = 'And'\n",
    "keyword.iskeyword(a)"
   ]
  },
  {
   "cell_type": "code",
   "execution_count": 59,
   "id": "cc3aec93-7a39-42ab-8ba2-366629f8a3e1",
   "metadata": {},
   "outputs": [
    {
     "data": {
      "text/plain": [
       "True"
      ]
     },
     "execution_count": 59,
     "metadata": {},
     "output_type": "execute_result"
    }
   ],
   "source": [
    "a = 'and'\n",
    "keyword.iskeyword(a)"
   ]
  },
  {
   "cell_type": "code",
   "execution_count": null,
   "id": "79c4a5b3-1457-4482-99f6-ba7130cf104b",
   "metadata": {},
   "outputs": [],
   "source": [
    "# 5 Create a list and tuple in python and demonstrate how attempting to change an element\n",
    "# works differently for each?"
   ]
  },
  {
   "cell_type": "code",
   "execution_count": 26,
   "id": "c51edc15-d57e-4bc4-92b8-39f626ca9973",
   "metadata": {},
   "outputs": [
    {
     "data": {
      "text/plain": [
       "[2, 'Ram', (3+9j), True]"
      ]
     },
     "execution_count": 26,
     "metadata": {},
     "output_type": "execute_result"
    }
   ],
   "source": [
    "# list\n",
    "list = [2, 'Ram', 3+9j, True]\n",
    "list"
   ]
  },
  {
   "cell_type": "code",
   "execution_count": 28,
   "id": "ca9891fd-5fd0-4cce-b89a-e767527505ee",
   "metadata": {},
   "outputs": [],
   "source": [
    "# Tupple"
   ]
  },
  {
   "cell_type": "code",
   "execution_count": 30,
   "id": "f29b15e6-087b-44d9-a867-58f646a70929",
   "metadata": {},
   "outputs": [
    {
     "data": {
      "text/plain": [
       "'10,20,30'"
      ]
     },
     "execution_count": 30,
     "metadata": {},
     "output_type": "execute_result"
    }
   ],
   "source": [
    "a= ('10,20,30')\n",
    "a"
   ]
  },
  {
   "cell_type": "code",
   "execution_count": null,
   "id": "f453e31f-6ece-4120-89ff-b4519c744677",
   "metadata": {},
   "outputs": [],
   "source": [
    "# 6 write a function to demanstrate the behaviour of mutable and immutable arguments?"
   ]
  },
  {
   "cell_type": "code",
   "execution_count": 73,
   "id": "fc80a16e-a82f-452d-905a-e3c05d8cb51a",
   "metadata": {},
   "outputs": [
    {
     "data": {
      "text/plain": [
       "[2, 'Ram', (3+9j), True]"
      ]
     },
     "execution_count": 73,
     "metadata": {},
     "output_type": "execute_result"
    }
   ],
   "source": [
    "# list (mutable)\n",
    "list = [2, 'Ram', 3+9j, True]\n",
    "list"
   ]
  },
  {
   "cell_type": "code",
   "execution_count": 77,
   "id": "ed7f8a4e-165a-4dac-8b98-e0080896e1f9",
   "metadata": {},
   "outputs": [
    {
     "data": {
      "text/plain": [
       "(3+9j)"
      ]
     },
     "execution_count": 77,
     "metadata": {},
     "output_type": "execute_result"
    }
   ],
   "source": [
    "list[2]"
   ]
  },
  {
   "cell_type": "code",
   "execution_count": 79,
   "id": "80198173-08a7-4a9c-85f7-87d2e2098a2e",
   "metadata": {},
   "outputs": [],
   "source": [
    "list[2] = 89"
   ]
  },
  {
   "cell_type": "code",
   "execution_count": 83,
   "id": "cdf42c2c-2c2b-4d57-8342-f7c9df2cab8b",
   "metadata": {},
   "outputs": [
    {
     "data": {
      "text/plain": [
       "[2, 'Ram', 89, True]"
      ]
     },
     "execution_count": 83,
     "metadata": {},
     "output_type": "execute_result"
    }
   ],
   "source": [
    "list"
   ]
  },
  {
   "cell_type": "code",
   "execution_count": null,
   "id": "b6dfca79-d14c-449e-a757-e949afdbae98",
   "metadata": {},
   "outputs": [],
   "source": [
    "# Tupple (imutable)"
   ]
  },
  {
   "cell_type": "code",
   "execution_count": 16,
   "id": "361d7ccd-b8b8-4d8e-8afa-3cac6dfd370a",
   "metadata": {},
   "outputs": [
    {
     "data": {
      "text/plain": [
       "'10,20,30'"
      ]
     },
     "execution_count": 16,
     "metadata": {},
     "output_type": "execute_result"
    }
   ],
   "source": [
    "a= ('10,20,30')\n",
    "a"
   ]
  },
  {
   "cell_type": "code",
   "execution_count": 24,
   "id": "41c7b29c-c0cb-45dd-948d-ea168426398c",
   "metadata": {},
   "outputs": [
    {
     "ename": "TypeError",
     "evalue": "'str' object does not support item assignment",
     "output_type": "error",
     "traceback": [
      "\u001b[1;31m---------------------------------------------------------------------------\u001b[0m",
      "\u001b[1;31mTypeError\u001b[0m                                 Traceback (most recent call last)",
      "Cell \u001b[1;32mIn[24], line 1\u001b[0m\n\u001b[1;32m----> 1\u001b[0m a[\u001b[38;5;241m3\u001b[39m]\u001b[38;5;241m=\u001b[39m \u001b[38;5;241m50\u001b[39m\n",
      "\u001b[1;31mTypeError\u001b[0m: 'str' object does not support item assignment"
     ]
    }
   ],
   "source": [
    "a[3]= 50"
   ]
  },
  {
   "cell_type": "code",
   "execution_count": null,
   "id": "986beddc-0066-46f1-b812-cb4d28ceca18",
   "metadata": {},
   "outputs": [],
   "source": [
    "#8 write a program to demontrate a use of logocal operators"
   ]
  },
  {
   "cell_type": "code",
   "execution_count": 52,
   "id": "202ac6b9-4daf-40b8-ad12-aefb584b084d",
   "metadata": {},
   "outputs": [
    {
     "name": "stdout",
     "output_type": "stream",
     "text": [
      "The numbers are greater than 0\n",
      "The numbers are greater than 0\n"
     ]
    }
   ],
   "source": [
    "a = 5\n",
    "b = 25\n",
    "c = 30\n",
    "if a > 0 and b > 0:\n",
    "    print(\"The numbers are greater than 0\")\n",
    "if a > 0 and b > 0 and c > 0:\n",
    "    print(\"The numbers are greater than 0\")\n",
    "else:\n",
    "    print(\"Atleast one number is not greater than 0\")"
   ]
  },
  {
   "cell_type": "code",
   "execution_count": 54,
   "id": "4407b4d8-2726-46d1-92f5-6938d7851f27",
   "metadata": {},
   "outputs": [],
   "source": [
    "# 9  write a program to convert user input from string to integer, float and boolean types"
   ]
  },
  {
   "cell_type": "code",
   "execution_count": 69,
   "id": "411fe0c8-3ae7-4971-9664-77576530b1c7",
   "metadata": {},
   "outputs": [
    {
     "name": "stdout",
     "output_type": "stream",
     "text": [
      "6\n"
     ]
    }
   ],
   "source": [
    "string = '6'\n",
    "num = int(6)\n",
    "print(num)"
   ]
  },
  {
   "cell_type": "code",
   "execution_count": 83,
   "id": "8319e773-d2c1-4d87-accc-4a28c881b06e",
   "metadata": {},
   "outputs": [
    {
     "data": {
      "text/plain": [
       "int"
      ]
     },
     "execution_count": 83,
     "metadata": {},
     "output_type": "execute_result"
    }
   ],
   "source": [
    "type(6)"
   ]
  },
  {
   "cell_type": "code",
   "execution_count": 85,
   "id": "8ee9a812-0795-4bf2-b223-1c720fd54626",
   "metadata": {},
   "outputs": [
    {
     "name": "stdout",
     "output_type": "stream",
     "text": [
      "6.8\n"
     ]
    }
   ],
   "source": [
    "string = '6'\n",
    "num = float(6.8)\n",
    "print(num)"
   ]
  },
  {
   "cell_type": "code",
   "execution_count": 87,
   "id": "06d7209f-ceb0-4eb4-8a0e-01a01245bcc7",
   "metadata": {},
   "outputs": [
    {
     "data": {
      "text/plain": [
       "float"
      ]
     },
     "execution_count": 87,
     "metadata": {},
     "output_type": "execute_result"
    }
   ],
   "source": [
    "type(6.8)"
   ]
  },
  {
   "cell_type": "code",
   "execution_count": 89,
   "id": "6b8d5c78-76a8-4e07-a1e4-519fd2648777",
   "metadata": {},
   "outputs": [
    {
     "name": "stdout",
     "output_type": "stream",
     "text": [
      "True\n"
     ]
    }
   ],
   "source": [
    "s1 = '6'\n",
    "s2 = '3'\n",
    "s3 = '9'\n",
    "if s1 > s2 and s3 > s1:\n",
    "    print(True)"
   ]
  },
  {
   "cell_type": "code",
   "execution_count": null,
   "id": "60fc1a7c-cc8f-47b7-aaae-62430e4dae95",
   "metadata": {},
   "outputs": [],
   "source": [
    "#10 write a code to demonstrate a type casting with list elements"
   ]
  },
  {
   "cell_type": "code",
   "execution_count": null,
   "id": "5d34b0f7-83ce-48f0-a5bb-fd6a867c7f53",
   "metadata": {},
   "outputs": [],
   "source": [
    "# Python automatically converts \n",
    "# b to float \n",
    "b = 5.0\n",
    "print(type(b)) \n",
    "\n",
    "# c to float as it is a float addition \n",
    "c = a + b \n",
    "print(c) \n",
    "print(type(c))\n",
    " \n",
    "# d to float as it is a float multiplication\n",
    "d = a * b\n",
    "print(d)\n",
    "print(type(d))"
   ]
  },
  {
   "cell_type": "code",
   "execution_count": null,
   "id": "86e6648b-617a-41b0-b2cf-f26151e42f5c",
   "metadata": {},
   "outputs": [],
   "source": [
    "# 11 write a program that checks if a number is Negative positive and zero"
   ]
  },
  {
   "cell_type": "code",
   "execution_count": 5,
   "id": "ca2e0d19-6ea2-470c-ac5a-273e9739816e",
   "metadata": {},
   "outputs": [
    {
     "name": "stdin",
     "output_type": "stream",
     "text": [
      "enter a number:  3\n"
     ]
    },
    {
     "name": "stdout",
     "output_type": "stream",
     "text": [
      "number is positive\n"
     ]
    }
   ],
   "source": [
    "num = int(input(\"enter a number: \"))\n",
    "if num > 0:\n",
    "    print(\"number is positive\")\n",
    "elif num == 0:\n",
    "    print(\"number is zero\")\n",
    "else:\n",
    "    print (\"number is negative\")"
   ]
  },
  {
   "cell_type": "code",
   "execution_count": 7,
   "id": "d6264a31-5152-455c-95af-c6f55b3edc71",
   "metadata": {},
   "outputs": [],
   "source": [
    "# 12 write a loop to print number from 1 to 10"
   ]
  },
  {
   "cell_type": "code",
   "execution_count": 23,
   "id": "620526b1-13cb-4ee3-9e01-d55bf175a7a1",
   "metadata": {},
   "outputs": [
    {
     "name": "stdout",
     "output_type": "stream",
     "text": [
      "1\n",
      "2\n",
      "3\n",
      "4\n",
      "5\n",
      "6\n",
      "7\n",
      "8\n",
      "9\n",
      "10\n"
     ]
    }
   ],
   "source": [
    "for a in range(1, 11):\n",
    "    print(a)"
   ]
  },
  {
   "cell_type": "code",
   "execution_count": null,
   "id": "d088737c-be73-4983-b19d-fdf3a7f1b1af",
   "metadata": {},
   "outputs": [],
   "source": [
    "# 13 write a python program to find the sum of all even numbers from 1 to 50"
   ]
  },
  {
   "cell_type": "code",
   "execution_count": 42,
   "id": "e4b14bf5-466b-4dde-82c7-1b7f6ad710ea",
   "metadata": {},
   "outputs": [
    {
     "name": "stdout",
     "output_type": "stream",
     "text": [
      "the sum of even number is= 650\n"
     ]
    }
   ],
   "source": [
    "sum = 0\n",
    "i = 2\n",
    "while (i<=50):\n",
    "    sum= sum+i\n",
    "    i= i+2\n",
    "print(\"the sum of even number is=\",sum)"
   ]
  },
  {
   "cell_type": "code",
   "execution_count": null,
   "id": "418d4bd2-0c4d-4e2d-a531-1d8f6fe715dc",
   "metadata": {},
   "outputs": [],
   "source": [
    "# 14 write a program to reverse a number using while loop in python"
   ]
  },
  {
   "cell_type": "code",
   "execution_count": 47,
   "id": "ac5740df-1d86-4a65-838c-5fe45369197e",
   "metadata": {},
   "outputs": [
    {
     "name": "stdin",
     "output_type": "stream",
     "text": [
      "enter a number:  652\n"
     ]
    },
    {
     "name": "stdout",
     "output_type": "stream",
     "text": [
      "reverse= 256\n"
     ]
    }
   ],
   "source": [
    "n = int(input(\"enter a number: \"))\n",
    "rev = 0\n",
    "while (n>0):\n",
    "    rev= (rev*10)+n%10\n",
    "    n= n//10\n",
    "print(\"reverse=\",rev)"
   ]
  },
  {
   "cell_type": "code",
   "execution_count": null,
   "id": "895e4c65-b823-4d13-b28d-64f91d31609a",
   "metadata": {},
   "outputs": [],
   "source": []
  },
  {
   "cell_type": "code",
   "execution_count": null,
   "id": "d8451b62-fb2a-44a6-b529-575fa47bcdbd",
   "metadata": {},
   "outputs": [],
   "source": []
  },
  {
   "cell_type": "code",
   "execution_count": null,
   "id": "d0882711-229f-4e5e-accc-7eb8366e5a26",
   "metadata": {},
   "outputs": [],
   "source": []
  }
 ],
 "metadata": {
  "kernelspec": {
   "display_name": "Python 3 (ipykernel)",
   "language": "python",
   "name": "python3"
  },
  "language_info": {
   "codemirror_mode": {
    "name": "ipython",
    "version": 3
   },
   "file_extension": ".py",
   "mimetype": "text/x-python",
   "name": "python",
   "nbconvert_exporter": "python",
   "pygments_lexer": "ipython3",
   "version": "3.11.7"
  }
 },
 "nbformat": 4,
 "nbformat_minor": 5
}
